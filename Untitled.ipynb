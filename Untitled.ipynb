{
 "cells": [
  {
   "cell_type": "code",
   "execution_count": 117,
   "id": "8401619f",
   "metadata": {},
   "outputs": [
    {
     "name": "stdout",
     "output_type": "stream",
     "text": [
      "Requirement already satisfied: awswrangler in /Users/aswinimechiri/opt/anaconda3/lib/python3.9/site-packages (2.16.1)\n",
      "Requirement already satisfied: boto3<2.0.0,>=1.20.17 in /Users/aswinimechiri/opt/anaconda3/lib/python3.9/site-packages (from awswrangler) (1.21.32)\n",
      "Requirement already satisfied: pandas<2.0.0,>=1.2.0 in /Users/aswinimechiri/opt/anaconda3/lib/python3.9/site-packages (from awswrangler) (1.4.2)\n",
      "Requirement already satisfied: opensearch-py<2.0.0,>=1.0.0 in /Users/aswinimechiri/opt/anaconda3/lib/python3.9/site-packages (from awswrangler) (1.1.0)\n",
      "Requirement already satisfied: gremlinpython<4.0.0,>=3.5.2 in /Users/aswinimechiri/opt/anaconda3/lib/python3.9/site-packages (from awswrangler) (3.6.1)\n",
      "Requirement already satisfied: pg8000<2.0.0,>=1.20.0 in /Users/aswinimechiri/opt/anaconda3/lib/python3.9/site-packages (from awswrangler) (1.29.1)\n",
      "Requirement already satisfied: progressbar2<5.0.0,>=4.0.0 in /Users/aswinimechiri/opt/anaconda3/lib/python3.9/site-packages (from awswrangler) (4.0.0)\n",
      "Requirement already satisfied: pymysql<2.0.0,>=1.0.0 in /Users/aswinimechiri/opt/anaconda3/lib/python3.9/site-packages (from awswrangler) (1.0.2)\n",
      "Requirement already satisfied: backoff<3.0.0,>=1.11.1 in /Users/aswinimechiri/opt/anaconda3/lib/python3.9/site-packages (from awswrangler) (2.1.2)\n",
      "Requirement already satisfied: numpy<2.0.0,>=1.21.0 in /Users/aswinimechiri/opt/anaconda3/lib/python3.9/site-packages (from awswrangler) (1.21.5)\n",
      "Requirement already satisfied: pyarrow<7.1.0,>=2.0.0 in /Users/aswinimechiri/opt/anaconda3/lib/python3.9/site-packages (from awswrangler) (7.0.0)\n",
      "Requirement already satisfied: jsonpath-ng<2.0.0,>=1.5.3 in /Users/aswinimechiri/opt/anaconda3/lib/python3.9/site-packages (from awswrangler) (1.5.3)\n",
      "Requirement already satisfied: redshift-connector<2.1.0,>=2.0.889 in /Users/aswinimechiri/opt/anaconda3/lib/python3.9/site-packages (from awswrangler) (2.0.908)\n",
      "Requirement already satisfied: botocore<2.0.0,>=1.23.17 in /Users/aswinimechiri/opt/anaconda3/lib/python3.9/site-packages (from awswrangler) (1.24.32)\n",
      "Requirement already satisfied: openpyxl<3.1.0,>=3.0.0 in /Users/aswinimechiri/opt/anaconda3/lib/python3.9/site-packages (from awswrangler) (3.0.9)\n",
      "Requirement already satisfied: requests-aws4auth<2.0.0,>=1.1.1 in /Users/aswinimechiri/opt/anaconda3/lib/python3.9/site-packages (from awswrangler) (1.1.2)\n",
      "Requirement already satisfied: jmespath<2.0.0,>=0.7.1 in /Users/aswinimechiri/opt/anaconda3/lib/python3.9/site-packages (from boto3<2.0.0,>=1.20.17->awswrangler) (0.10.0)\n",
      "Requirement already satisfied: s3transfer<0.6.0,>=0.5.0 in /Users/aswinimechiri/opt/anaconda3/lib/python3.9/site-packages (from boto3<2.0.0,>=1.20.17->awswrangler) (0.5.0)\n",
      "Requirement already satisfied: urllib3<1.27,>=1.25.4 in /Users/aswinimechiri/opt/anaconda3/lib/python3.9/site-packages (from botocore<2.0.0,>=1.23.17->awswrangler) (1.26.9)\n",
      "Requirement already satisfied: python-dateutil<3.0.0,>=2.1 in /Users/aswinimechiri/opt/anaconda3/lib/python3.9/site-packages (from botocore<2.0.0,>=1.23.17->awswrangler) (2.8.2)\n",
      "Requirement already satisfied: aiohttp<=3.8.1,>=3.8.0 in /Users/aswinimechiri/opt/anaconda3/lib/python3.9/site-packages (from gremlinpython<4.0.0,>=3.5.2->awswrangler) (3.8.1)\n",
      "Requirement already satisfied: aenum<4.0.0,>=1.4.5 in /Users/aswinimechiri/opt/anaconda3/lib/python3.9/site-packages (from gremlinpython<4.0.0,>=3.5.2->awswrangler) (3.1.11)\n",
      "Requirement already satisfied: nest-asyncio in /Users/aswinimechiri/opt/anaconda3/lib/python3.9/site-packages (from gremlinpython<4.0.0,>=3.5.2->awswrangler) (1.5.5)\n",
      "Requirement already satisfied: isodate<1.0.0,>=0.6.0 in /Users/aswinimechiri/opt/anaconda3/lib/python3.9/site-packages (from gremlinpython<4.0.0,>=3.5.2->awswrangler) (0.6.1)\n",
      "Requirement already satisfied: aiosignal>=1.1.2 in /Users/aswinimechiri/opt/anaconda3/lib/python3.9/site-packages (from aiohttp<=3.8.1,>=3.8.0->gremlinpython<4.0.0,>=3.5.2->awswrangler) (1.2.0)\n",
      "Requirement already satisfied: attrs>=17.3.0 in /Users/aswinimechiri/opt/anaconda3/lib/python3.9/site-packages (from aiohttp<=3.8.1,>=3.8.0->gremlinpython<4.0.0,>=3.5.2->awswrangler) (21.4.0)\n",
      "Requirement already satisfied: async-timeout<5.0,>=4.0.0a3 in /Users/aswinimechiri/opt/anaconda3/lib/python3.9/site-packages (from aiohttp<=3.8.1,>=3.8.0->gremlinpython<4.0.0,>=3.5.2->awswrangler) (4.0.1)\n",
      "Requirement already satisfied: charset-normalizer<3.0,>=2.0 in /Users/aswinimechiri/opt/anaconda3/lib/python3.9/site-packages (from aiohttp<=3.8.1,>=3.8.0->gremlinpython<4.0.0,>=3.5.2->awswrangler) (2.0.4)\n",
      "Requirement already satisfied: frozenlist>=1.1.1 in /Users/aswinimechiri/opt/anaconda3/lib/python3.9/site-packages (from aiohttp<=3.8.1,>=3.8.0->gremlinpython<4.0.0,>=3.5.2->awswrangler) (1.2.0)\n",
      "Requirement already satisfied: multidict<7.0,>=4.5 in /Users/aswinimechiri/opt/anaconda3/lib/python3.9/site-packages (from aiohttp<=3.8.1,>=3.8.0->gremlinpython<4.0.0,>=3.5.2->awswrangler) (5.2.0)\n",
      "Requirement already satisfied: yarl<2.0,>=1.0 in /Users/aswinimechiri/opt/anaconda3/lib/python3.9/site-packages (from aiohttp<=3.8.1,>=3.8.0->gremlinpython<4.0.0,>=3.5.2->awswrangler) (1.6.3)\n",
      "Requirement already satisfied: typing-extensions>=3.6.5 in /Users/aswinimechiri/opt/anaconda3/lib/python3.9/site-packages (from async-timeout<5.0,>=4.0.0a3->aiohttp<=3.8.1,>=3.8.0->gremlinpython<4.0.0,>=3.5.2->awswrangler) (4.1.1)\n",
      "Requirement already satisfied: six in /Users/aswinimechiri/opt/anaconda3/lib/python3.9/site-packages (from isodate<1.0.0,>=0.6.0->gremlinpython<4.0.0,>=3.5.2->awswrangler) (1.16.0)\n",
      "Requirement already satisfied: decorator in /Users/aswinimechiri/opt/anaconda3/lib/python3.9/site-packages (from jsonpath-ng<2.0.0,>=1.5.3->awswrangler) (5.1.1)\n",
      "Requirement already satisfied: ply in /Users/aswinimechiri/opt/anaconda3/lib/python3.9/site-packages (from jsonpath-ng<2.0.0,>=1.5.3->awswrangler) (3.11)\n",
      "Requirement already satisfied: et-xmlfile in /Users/aswinimechiri/opt/anaconda3/lib/python3.9/site-packages (from openpyxl<3.1.0,>=3.0.0->awswrangler) (1.1.0)\n",
      "Requirement already satisfied: certifi in /Users/aswinimechiri/opt/anaconda3/lib/python3.9/site-packages (from opensearch-py<2.0.0,>=1.0.0->awswrangler) (2021.10.8)\n",
      "Requirement already satisfied: pytz>=2020.1 in /Users/aswinimechiri/opt/anaconda3/lib/python3.9/site-packages (from pandas<2.0.0,>=1.2.0->awswrangler) (2021.3)\n",
      "Requirement already satisfied: scramp>=1.4.1 in /Users/aswinimechiri/opt/anaconda3/lib/python3.9/site-packages (from pg8000<2.0.0,>=1.20.0->awswrangler) (1.4.1)\n",
      "Requirement already satisfied: python-utils>=3.0.0 in /Users/aswinimechiri/opt/anaconda3/lib/python3.9/site-packages (from progressbar2<5.0.0,>=4.0.0->awswrangler) (3.3.3)\n",
      "Requirement already satisfied: requests<2.28.1,>=2.23.0 in /Users/aswinimechiri/opt/anaconda3/lib/python3.9/site-packages (from redshift-connector<2.1.0,>=2.0.889->awswrangler) (2.27.1)\n",
      "Requirement already satisfied: lxml>=4.6.5 in /Users/aswinimechiri/opt/anaconda3/lib/python3.9/site-packages (from redshift-connector<2.1.0,>=2.0.889->awswrangler) (4.8.0)\n",
      "Requirement already satisfied: beautifulsoup4<5.0.0,>=4.7.0 in /Users/aswinimechiri/opt/anaconda3/lib/python3.9/site-packages (from redshift-connector<2.1.0,>=2.0.889->awswrangler) (4.11.1)\n",
      "Requirement already satisfied: packaging in /Users/aswinimechiri/opt/anaconda3/lib/python3.9/site-packages (from redshift-connector<2.1.0,>=2.0.889->awswrangler) (21.3)\n",
      "Requirement already satisfied: soupsieve>1.2 in /Users/aswinimechiri/opt/anaconda3/lib/python3.9/site-packages (from beautifulsoup4<5.0.0,>=4.7.0->redshift-connector<2.1.0,>=2.0.889->awswrangler) (2.3.1)\n",
      "Requirement already satisfied: idna<4,>=2.5 in /Users/aswinimechiri/opt/anaconda3/lib/python3.9/site-packages (from requests<2.28.1,>=2.23.0->redshift-connector<2.1.0,>=2.0.889->awswrangler) (3.3)\n",
      "Requirement already satisfied: asn1crypto>=1.4.0 in /Users/aswinimechiri/opt/anaconda3/lib/python3.9/site-packages (from scramp>=1.4.1->pg8000<2.0.0,>=1.20.0->awswrangler) (1.5.1)\n",
      "Requirement already satisfied: pyparsing!=3.0.5,>=2.0.2 in /Users/aswinimechiri/opt/anaconda3/lib/python3.9/site-packages (from packaging->redshift-connector<2.1.0,>=2.0.889->awswrangler) (3.0.4)\n"
     ]
    }
   ],
   "source": [
    "!pip install awswrangler\n",
    "\n",
    "import awswrangler as wr\n"
   ]
  },
  {
   "cell_type": "markdown",
   "id": "3986f797",
   "metadata": {},
   "source": [
    "wr.s3.upload(local_file='/Users/aswinimechiri/Downloads/RS_Session_256_AS_200.A.csv', path='s3://aswiniawspandas/key')"
   ]
  },
  {
   "cell_type": "code",
   "execution_count": 118,
   "id": "6a372d1e",
   "metadata": {},
   "outputs": [],
   "source": [
    "wr.s3.upload(local_file='/Users/aswinimechiri/Downloads/RS_Session_256_AS_200.A.csv', path='s3://aswiniawspandas/key')"
   ]
  },
  {
   "cell_type": "code",
   "execution_count": null,
   "id": "4c11cc20",
   "metadata": {},
   "outputs": [],
   "source": []
  }
 ],
 "metadata": {
  "kernelspec": {
   "display_name": "Python 3 (ipykernel)",
   "language": "python",
   "name": "python3"
  },
  "language_info": {
   "codemirror_mode": {
    "name": "ipython",
    "version": 3
   },
   "file_extension": ".py",
   "mimetype": "text/x-python",
   "name": "python",
   "nbconvert_exporter": "python",
   "pygments_lexer": "ipython3",
   "version": "3.9.12"
  }
 },
 "nbformat": 4,
 "nbformat_minor": 5
}
